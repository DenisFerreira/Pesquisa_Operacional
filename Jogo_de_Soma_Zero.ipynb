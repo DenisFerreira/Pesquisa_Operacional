{
  "nbformat": 4,
  "nbformat_minor": 0,
  "metadata": {
    "colab": {
      "name": "Jogo de Soma Zero.ipynb",
      "provenance": [],
      "collapsed_sections": [],
      "authorship_tag": "ABX9TyPv/R8191bveSMo1vACfGxc",
      "include_colab_link": true
    },
    "kernelspec": {
      "name": "python3",
      "display_name": "Python 3"
    },
    "language_info": {
      "name": "python"
    }
  },
  "cells": [
    {
      "cell_type": "markdown",
      "metadata": {
        "id": "view-in-github",
        "colab_type": "text"
      },
      "source": [
        "<a href=\"https://colab.research.google.com/github/DenisFerreira/Pesquisa_Operacional/blob/main/Jogo_de_Soma_Zero.ipynb\" target=\"_parent\"><img src=\"https://colab.research.google.com/assets/colab-badge.svg\" alt=\"Open In Colab\"/></a>"
      ]
    },
    {
      "cell_type": "markdown",
      "metadata": {
        "id": "dqbDKz_rGZa_"
      },
      "source": [
        "# Jogo de Soma Zero\n",
        "\n",
        "Em um jogo, dois oponentes (jogadores) podem ter um número finito ou infinito de alternativas ou estratégias. Associado com cada par de estratégias há um valor de pagamento (payoff) que um jogador paga para seu oponente. Estes jogos são conhecidos como Jogos de Soma Zero e Dois Jogadores porque o ganho de um jogador é igual à perda do outro.\n",
        "Com os conceitos citados acima, o jogo pode ser resumido em termos dos payoff para um único jogador, uma vez que os payoff podem ser positivos (ganhar e o oponente perder) e negativos (perder e o oponente ganhar).\n",
        "\n",
        "A solução ótima de um Jogo de Soma Zero e Dois Jogadores seleciona uma ou mais estratégias para cada jogador tal que qualquer mudança em uma estratégia escolhida não melhora o payoff para o outro jogador. Estas soluções podem estar na forma de uma única estratégia ou várias estratégias misturas de acordo com probabilidades pré-determinadas.\n"
      ]
    },
    {
      "cell_type": "code",
      "metadata": {
        "id": "_qbJi2nLIy-Q"
      },
      "source": [
        "!!pip install pulp\n",
        "from pulp import *"
      ],
      "execution_count": 1,
      "outputs": []
    },
    {
      "cell_type": "code",
      "metadata": {
        "id": "DSv1qI_F0zpj",
        "colab": {
          "base_uri": "https://localhost:8080/"
        },
        "outputId": "47d6cf29-12d5-4238-eb00-3fc2cd736b3a"
      },
      "source": [
        "# Dados do problema\n",
        "# matriz de payoff para 3 estratégias para o jogador 1\n",
        "# e 4 estratégias possíveis para o jogador 2\n",
        "\n",
        "payoff = [[30, -10, -30, 20],\n",
        "          [0, -40, 10, -30],\n",
        "          [-50, 60, 0, 10]]\n",
        "\n",
        "estrategia_JA = [0, 1, 2]\n",
        "estrategia_JB = [0, 1, 2, 3]\n",
        "\n",
        "# Criação das variáveis de decisão\n",
        "\n",
        "# Porcentagem de escolha das respectivas estratégias para o jogador A que, ao longo prazo, darão o melhor resultado\n",
        "var = LpVariable.dict(\"JA\", (estrategia_JA), lowBound=0)\n",
        "v = LpVariable('v')\n",
        "\n",
        "# Criação do modelo\n",
        "model = LpProblem(\"Jogo_de_soma_zero\", LpMaximize)\n",
        "model += v\n",
        "\n",
        "# Criação das restrições\n",
        "lista_rest = []\n",
        "for b in estrategia_JB:\n",
        "  for a in estrategia_JA:\n",
        "    lista_rest.append( var[a] * payoff[a][b] )\n",
        "  model += v - lpSum(lista_rest) == 0\n",
        "  lista_rest = []\n",
        "\n",
        "model += lpSum(var.values()) == 1\n",
        "\n",
        "# Solução do problema\n",
        "status = model.solve()\n",
        "print(value(model.objective))\n",
        "print(LpStatus[status])\n",
        "for x in var.values():\n",
        "  if value(x)!= 0:\n",
        "    print(f'{x} = {value(x)}')"
      ],
      "execution_count": 5,
      "outputs": [
        {
          "output_type": "stream",
          "text": [
            "-4.53125\n",
            "Infeasible\n",
            "JA_0 = 0.296875\n",
            "JA_1 = 0.4375\n",
            "JA_2 = 0.265625\n"
          ],
          "name": "stdout"
        }
      ]
    }
  ]
}