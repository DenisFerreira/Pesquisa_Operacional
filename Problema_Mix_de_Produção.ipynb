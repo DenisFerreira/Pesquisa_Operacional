{
  "nbformat": 4,
  "nbformat_minor": 0,
  "metadata": {
    "colab": {
      "name": "Problema Mix de Produção.ipynb",
      "provenance": [],
      "collapsed_sections": [],
      "authorship_tag": "ABX9TyN6uB3Es7q1osxv+m0hCmVc",
      "include_colab_link": true
    },
    "kernelspec": {
      "name": "python3",
      "display_name": "Python 3"
    },
    "language_info": {
      "name": "python"
    }
  },
  "cells": [
    {
      "cell_type": "markdown",
      "metadata": {
        "id": "view-in-github",
        "colab_type": "text"
      },
      "source": [
        "<a href=\"https://colab.research.google.com/github/DenisFerreira/Pesquisa_Operacional/blob/main/Problema_Mix_de_Produ%C3%A7%C3%A3o.ipynb\" target=\"_parent\"><img src=\"https://colab.research.google.com/assets/colab-badge.svg\" alt=\"Open In Colab\"/></a>"
      ]
    },
    {
      "cell_type": "markdown",
      "metadata": {
        "id": "uqm24T1GnESP"
      },
      "source": [
        "# Problema do mix de produção - puLP\n",
        "---\n",
        "1.   Criar variáveis de decisão\n",
        "2.   Criar o modelo\n",
        "3.   Criar função objetivo\n",
        "4.   Criar as restrições\n",
        "5.   Solução do modelo\n",
        "\n"
      ]
    },
    {
      "cell_type": "markdown",
      "metadata": {
        "id": "VlLBpkFZoQ-5"
      },
      "source": [
        "# Dados do problema\n",
        "Uma empresa quer maximizar os lucros. O Lucro é definido pela quantidade produzida de cada produto multiplicado pelo lucro individual de cada produto.\n",
        "*   O processo produtivo de cada produto necessita que determinados processos sejam executados para possuir o produto final. \n",
        "A empresa possui uma cadacidade limitada de realizar cada um destes processos.\n",
        "*   Além disso ela possui a demanda esperada de venda de cada produto de forma que não é interessante produzir mais produtos do que a demanda consegue consumir.\n",
        "*   Além disso ela possui espaço em estoque que não pode ser sobrecarregado enquanto não finalizado a vendo dos outros produtos.\n"
      ]
    },
    {
      "cell_type": "code",
      "metadata": {
        "id": "0fR7dAv-m-vy"
      },
      "source": [
        "!!pip install pulp"
      ],
      "execution_count": null,
      "outputs": []
    },
    {
      "cell_type": "code",
      "metadata": {
        "id": "r4swqNu1okZE"
      },
      "source": [
        "from pulp import *"
      ],
      "execution_count": 3,
      "outputs": []
    },
    {
      "cell_type": "code",
      "metadata": {
        "id": "lnH2IVJZqc1A"
      },
      "source": [
        "# Dados do problema\n",
        "# Tempos representa quanto de tempo é gasto por cada produto nos processos\n",
        "# 10 produtos e 5 processos produtivos  \n",
        "tempos_prodxproc = [[2,5,5,0,0],\n",
        "          [0,5,5,1,2],\n",
        "          [2,1,0,2,3],\n",
        "          [6,0,0,1,0],\n",
        "          [1,4,3,0,7],\n",
        "          [2,5,4,9,0],\n",
        "          [2,5,7,0,10],\n",
        "          [0,10,5,0,0],\n",
        "          [0,5,2,0,3],\n",
        "          [1,6,2,1,3]]\n",
        "\n",
        "# Produtos\n",
        "produto = [0,1,2,3,4,5,6,7,8,9]\n",
        "\n",
        "# Máximo de demanda por produto\n",
        "max_demanda = {produto[0]:300.5,\n",
        "               produto[1]:200.5,\n",
        "               produto[2]:150,\n",
        "               produto[3]:180,\n",
        "               produto[4]:220,\n",
        "               produto[5]:200.5,\n",
        "               produto[6]:160.5,\n",
        "               produto[7]:300.5,\n",
        "               produto[8]:150.5,\n",
        "               produto[9]:200,}\n",
        "\n",
        "# Máximo de demanda por produto\n",
        "lucro = {      produto[0]:1.2,\n",
        "               produto[1]:2,\n",
        "               produto[2]:2.3,\n",
        "               produto[3]:3.4,\n",
        "               produto[4]:1.5,\n",
        "               produto[5]:2.5,\n",
        "               produto[6]:1.5,\n",
        "               produto[7]:0.5,\n",
        "               produto[8]:1,\n",
        "               produto[9]:1.1} \n",
        "\n",
        "# Processos\n",
        "atividades = [0,1,2,3,4]\n",
        "\n",
        "# Capacidade de atendimento de cada processo\n",
        "capacidades = {atividades[0]:4000,\n",
        "               atividades[1]:5000,\n",
        "               atividades[2]:3000,\n",
        "               atividades[3]:7000,\n",
        "               atividades[4]:2500}\n",
        "\n",
        "volume_total = 1000"
      ],
      "execution_count": 16,
      "outputs": []
    },
    {
      "cell_type": "code",
      "metadata": {
        "id": "e2m_Mn2Ru_W3"
      },
      "source": [
        "# Criação das variáveis de decisão\n",
        "var = LpVariable.dict(\"Cerveja\", (produto), lowBound=0)\n",
        "\n",
        "# Criação do modelo\n",
        "model = LpProblem(\"Problema_mix_producao\", LpMaximize)\n",
        "\n",
        "lista_fo = []\n",
        "for x in produto:\n",
        "  lista_fo.append(var[x]*lucro[x])\n",
        "model += lpSum(lista_fo)\n",
        "\n",
        "# Criação das restrições\n",
        "\n",
        "# A capacidade de cada processo não pode ser ultrapassada\n",
        "for i in atividades:\n",
        "  lista_rest = []\n",
        "  for j in produto:\n",
        "    if( tempos_prodxproc[j][i] != 0):\n",
        "      lista_rest.append( var[j]*tempos_prodxproc[j][i] )\n",
        "  model += lpSum(lista_rest) <= capacidades[atividades[i]]\n",
        "\n",
        "# A quantidade de um produto não pode ultrapassar sua demanda individual\n",
        "for x in var.keys():\n",
        "  model += var[x] <= max_demanda[x]\n",
        "\n",
        "# A quantidade total de produtos não pode ultrapassar o limite do estoque\n",
        "model += lpSum(var.values()) <= volume_total"
      ],
      "execution_count": null,
      "outputs": []
    },
    {
      "cell_type": "code",
      "metadata": {
        "colab": {
          "base_uri": "https://localhost:8080/"
        },
        "id": "YrGzGw1qCxSy",
        "outputId": "7f28b07d-5838-440e-f8d5-4a629f4d6f31"
      },
      "source": [
        "status = model.solve()\n",
        "print(value(model.objective))\n",
        "print(LpStatus[status])\n",
        "for x in var.values():\n",
        "  if value(x)!= 0:\n",
        "    print(f'{x} = {value(x)}')"
      ],
      "execution_count": 31,
      "outputs": [
        {
          "output_type": "stream",
          "text": [
            "2251.32\n",
            "Optimal\n",
            "Cerveja_0 = 38.1\n",
            "Cerveja_1 = 200.5\n",
            "Cerveja_2 = 150.0\n",
            "Cerveja_3 = 180.0\n",
            "Cerveja_4 = 220.0\n",
            "Cerveja_5 = 200.5\n",
            "Cerveja_6 = 10.9\n"
          ],
          "name": "stdout"
        }
      ]
    }
  ]
}