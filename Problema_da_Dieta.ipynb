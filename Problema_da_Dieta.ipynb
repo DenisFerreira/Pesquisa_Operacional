{
  "nbformat": 4,
  "nbformat_minor": 0,
  "metadata": {
    "colab": {
      "name": "Problema da Dieta.ipynb",
      "provenance": [],
      "collapsed_sections": [],
      "authorship_tag": "ABX9TyMK4GPimU2ZCS3fk7NToHKH",
      "include_colab_link": true
    },
    "kernelspec": {
      "name": "python3",
      "display_name": "Python 3"
    },
    "language_info": {
      "name": "python"
    }
  },
  "cells": [
    {
      "cell_type": "markdown",
      "metadata": {
        "id": "view-in-github",
        "colab_type": "text"
      },
      "source": [
        "<a href=\"https://colab.research.google.com/github/DenisFerreira/Pesquisa_Operacional/blob/main/Problema_da_Dieta.ipynb\" target=\"_parent\"><img src=\"https://colab.research.google.com/assets/colab-badge.svg\" alt=\"Open In Colab\"/></a>"
      ]
    },
    {
      "cell_type": "markdown",
      "metadata": {
        "id": "wF-0YXlCS8aB"
      },
      "source": [
        "# Problema da dieta\n",
        "\n",
        "O Problema da dieta é um problema que tenta formular a dieta com menor custo mas que respeite as restrições mínimas de algum composto como  carbohidratos, proteínas e vitaminas mas que também seja sujeita a não ultrapassar os limites de outros compostos como gorduras, etc. É um problema bastante similar ao problema do mix de produção.\n"
      ]
    },
    {
      "cell_type": "code",
      "metadata": {
        "id": "kX5QYICnS1Cl"
      },
      "source": [
        "!!pip install pulp\n",
        "from pulp import *"
      ],
      "execution_count": 1,
      "outputs": []
    },
    {
      "cell_type": "code",
      "metadata": {
        "id": "wr5h86meTnAh"
      },
      "source": [
        "# Dados do problema\n",
        "racoes = [0,1,2,3,4,5]\n",
        "\n",
        "custo = {\n",
        "    racoes[0]:0.74,\n",
        "    racoes[1]:0.8,\n",
        "    racoes[2]:0.65,\n",
        "    racoes[3]:0.71,\n",
        "    racoes[4]:0.7,\n",
        "    racoes[5]:0.64,\n",
        "}\n",
        "\n",
        "minimo_nutricional = {\n",
        "    0: 200,   #Carbohidrato\n",
        "    1: 180,   #Proteina\n",
        "    2: 150    #Vitamina\n",
        "}\n",
        "\n",
        "info_nutricional = [\n",
        "                    [50,60,40,82,40,13],\n",
        "                    [70,30,50,32,70,83],\n",
        "                    [30,20,35,22,20,23],\n",
        "]"
      ],
      "execution_count": 4,
      "outputs": []
    },
    {
      "cell_type": "code",
      "metadata": {
        "colab": {
          "base_uri": "https://localhost:8080/"
        },
        "id": "w0DmBV3WVEYh",
        "outputId": "f9b73180-dff6-4242-e6c1-d43c949ef11c"
      },
      "source": [
        "# Criando as variáveis de decisão  \n",
        "# representam quanto de cada ração na dieta\n",
        "var = LpVariable.dict(\"Racao\", (racoes), lowBound=0)\n",
        "\n",
        "#criar o modelo\n",
        "model = LpProblem(\"Problema_da_dieta\", LpMinimize)\n",
        "\n",
        "#Criar a função objetivo\n",
        "lista_fo = []\n",
        "for x in racoes:\n",
        "  lista_fo.append(var[x]*custo[x])\n",
        "model += lpSum(lista_fo)\n",
        "\n",
        "# Criar as restrições\n",
        "lista_rest = []\n",
        "for i in minimo_nutricional:\n",
        "  for r in racoes:\n",
        "    lista_rest.append(var[r]*info_nutricional[i][r])\n",
        "  model += lpSum(lista_rest) >= minimo_nutricional[i]\n",
        "  lista_rest = []\n",
        "\n",
        "print(model)"
      ],
      "execution_count": 9,
      "outputs": [
        {
          "output_type": "stream",
          "text": [
            "Problema_da_dieta:\n",
            "MINIMIZE\n",
            "0.74*Racao_0 + 0.8*Racao_1 + 0.65*Racao_2 + 0.71*Racao_3 + 0.7*Racao_4 + 0.64*Racao_5 + 0.0\n",
            "SUBJECT TO\n",
            "_C1: 50 Racao_0 + 60 Racao_1 + 40 Racao_2 + 82 Racao_3 + 40 Racao_4\n",
            " + 13 Racao_5 >= 200\n",
            "\n",
            "_C2: 70 Racao_0 + 30 Racao_1 + 50 Racao_2 + 32 Racao_3 + 70 Racao_4\n",
            " + 83 Racao_5 >= 180\n",
            "\n",
            "_C3: 30 Racao_0 + 20 Racao_1 + 35 Racao_2 + 22 Racao_3 + 20 Racao_4\n",
            " + 23 Racao_5 >= 150\n",
            "\n",
            "VARIABLES\n",
            "Racao_0 Continuous\n",
            "Racao_1 Continuous\n",
            "Racao_2 Continuous\n",
            "Racao_3 Continuous\n",
            "Racao_4 Continuous\n",
            "Racao_5 Continuous\n",
            "\n"
          ],
          "name": "stdout"
        }
      ]
    },
    {
      "cell_type": "code",
      "metadata": {
        "colab": {
          "base_uri": "https://localhost:8080/"
        },
        "id": "dckqOns-Y0UY",
        "outputId": "a767faa2-4d1c-42b0-8328-b7c96bde47db"
      },
      "source": [
        "# Resolução do modelo\n",
        "status = model.solve()\n",
        "print(value(model.objective))\n",
        "print(LpStatus[status])\n",
        "for x in var.values():\n",
        "  if value(x)!= 0:\n",
        "    print(f'{x} = {value(x)}')"
      ],
      "execution_count": 11,
      "outputs": [
        {
          "output_type": "stream",
          "text": [
            "2.9371858976\n",
            "Optimal\n",
            "Racao_2 = 3.9698492\n",
            "Racao_3 = 0.50251256\n"
          ],
          "name": "stdout"
        }
      ]
    }
  ]
}