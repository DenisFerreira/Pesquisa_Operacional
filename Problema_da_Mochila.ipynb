{
  "nbformat": 4,
  "nbformat_minor": 0,
  "metadata": {
    "colab": {
      "name": "Problema da Mochila.ipynb",
      "provenance": [],
      "collapsed_sections": [],
      "authorship_tag": "ABX9TyNzP52AWyrPVySvqBOGE4GE",
      "include_colab_link": true
    },
    "kernelspec": {
      "name": "python3",
      "display_name": "Python 3"
    },
    "language_info": {
      "name": "python"
    }
  },
  "cells": [
    {
      "cell_type": "markdown",
      "metadata": {
        "id": "view-in-github",
        "colab_type": "text"
      },
      "source": [
        "<a href=\"https://colab.research.google.com/github/DenisFerreira/Pesquisa_Operacional/blob/main/Problema_da_Mochila.ipynb\" target=\"_parent\"><img src=\"https://colab.research.google.com/assets/colab-badge.svg\" alt=\"Open In Colab\"/></a>"
      ]
    },
    {
      "cell_type": "markdown",
      "metadata": {
        "id": "7nQtpUxZfVvp"
      },
      "source": [
        "# Problema da Mochila\n",
        "*   A mochila tem n elementos i\n",
        "*   Cada elemento tem um peso Pi\n",
        "*   Cada elemento tem um valor Vi\n",
        "*   A Mochila tem uma capacidade máxima L\n",
        "\n",
        "Problema: Maximizar o valor total da mochila\n",
        "Restrição: O peso não pode ultrapassar a capacidade da mochila\n",
        "\n",
        "Xi = 1 se o item i entra na mochila,\n",
        "Xi = 0 caso contrário\n",
        "\n",
        "Sujeito a \n",
        "Sum(Pi * Xi) <= L\n",
        "\n",
        "Modelo = MAX(Sum( Xi * Vi))"
      ]
    },
    {
      "cell_type": "markdown",
      "metadata": {
        "id": "qHhDX-VDkVlh"
      },
      "source": [
        "# Exemplo de aplicabilidade real\n",
        "\n",
        "Em uma empresa é necessário tomar a decisão de quais politicas de segurança serão aplicadas para evitar danos aos trabalhadores de chão de fábrica. Foi apresentado no relatório diversas políticas e estratégias que podem ser utilizadas, juntamente com o custo de implementação e seu benefício direto.\n",
        "Definir quais políticas serão aplicadas de forma que não estoure o budget da área. "
      ]
    },
    {
      "cell_type": "code",
      "metadata": {
        "id": "MJWBojwshzkl"
      },
      "source": [
        "!!pip install pulp\n",
        "from pulp import *"
      ],
      "execution_count": 1,
      "outputs": []
    },
    {
      "cell_type": "code",
      "metadata": {
        "colab": {
          "base_uri": "https://localhost:8080/"
        },
        "id": "e4dognBggbx3",
        "outputId": "57a0ffe6-7f6b-4058-db6e-c3430d6c05e6"
      },
      "source": [
        "elementos = [0, 1, 2, 3, 4, 5, 6 , 7, 8, 9, 10, 11]\n",
        "pesos = {\n",
        "    elementos[0]: 35,\n",
        "    elementos[1]: 25,\n",
        "    elementos[2]: 15,\n",
        "    elementos[3]: 7,\n",
        "    elementos[4]: 8,\n",
        "    elementos[5]: 9,\n",
        "    elementos[6]: 20,\n",
        "    elementos[7]: 28,\n",
        "    elementos[8]: 18,\n",
        "    elementos[9]: 5,\n",
        "    elementos[10]: 10,\n",
        "    elementos[11]: 45,\n",
        "}\n",
        "\n",
        "valores = {\n",
        "    elementos[0]: 54,\n",
        "    elementos[1]: 53,\n",
        "    elementos[2]: 60,\n",
        "    elementos[3]: 7,\n",
        "    elementos[4]: 21,\n",
        "    elementos[5]: 19,\n",
        "    elementos[6]: 10,\n",
        "    elementos[7]: 28,\n",
        "    elementos[8]: 18,\n",
        "    elementos[9]: 3,\n",
        "    elementos[10]: 24,\n",
        "    elementos[11]: 16,\n",
        "}\n",
        "\n",
        "L = 77\n",
        "\n",
        "var = LpVariable.dict('X', elementos, cat=const.LpBinary)\n",
        "model = LpProblem('Problema_da_Mochila', LpMaximize)\n",
        "\n",
        "# Função objetivo\n",
        "lista_fo = []\n",
        "for i in elementos:\n",
        "  lista_fo.append(var[i] * valores[i])\n",
        "model += lpSum(lista_fo)\n",
        "\n",
        "# Lista de restrições\n",
        "lista_rest = []\n",
        "for i in elementos:\n",
        "  lista_rest.append(var[i] * pesos[i])\n",
        "model += lpSum(lista_rest) <= L"
      ],
      "execution_count": 2,
      "outputs": [
        {
          "output_type": "stream",
          "text": [
            "Problema_da_Mochila:\n",
            "MAXIMIZE\n",
            "54*X_0 + 53*X_1 + 24*X_10 + 16*X_11 + 60*X_2 + 7*X_3 + 21*X_4 + 19*X_5 + 10*X_6 + 28*X_7 + 18*X_8 + 3*X_9 + 0\n",
            "SUBJECT TO\n",
            "_C1: 35 X_0 + 25 X_1 + 10 X_10 + 45 X_11 + 15 X_2 + 7 X_3 + 8 X_4 + 9 X_5\n",
            " + 20 X_6 + 28 X_7 + 18 X_8 + 5 X_9 <= 77\n",
            "\n",
            "VARIABLES\n",
            "0 <= X_0 <= 1 Integer\n",
            "0 <= X_1 <= 1 Integer\n",
            "0 <= X_10 <= 1 Integer\n",
            "0 <= X_11 <= 1 Integer\n",
            "0 <= X_2 <= 1 Integer\n",
            "0 <= X_3 <= 1 Integer\n",
            "0 <= X_4 <= 1 Integer\n",
            "0 <= X_5 <= 1 Integer\n",
            "0 <= X_6 <= 1 Integer\n",
            "0 <= X_7 <= 1 Integer\n",
            "0 <= X_8 <= 1 Integer\n",
            "0 <= X_9 <= 1 Integer\n",
            "\n"
          ],
          "name": "stdout"
        }
      ]
    },
    {
      "cell_type": "code",
      "metadata": {
        "colab": {
          "base_uri": "https://localhost:8080/"
        },
        "id": "6DgCmalkjaEl",
        "outputId": "9b1d47c0-c426-4cf1-f6a6-1ea843246b2b"
      },
      "source": [
        "print(model)\n",
        "status = model.solve()\n",
        "print(LpStatus[status])\n",
        "print(f'O custo é {value(model.objective)}')\n",
        "for i in elementos:\n",
        "  print(f'{var[i]} = {value(var[i])}')"
      ],
      "execution_count": 3,
      "outputs": [
        {
          "output_type": "stream",
          "text": [
            "Problema_da_Mochila:\n",
            "MAXIMIZE\n",
            "54*X_0 + 53*X_1 + 24*X_10 + 16*X_11 + 60*X_2 + 7*X_3 + 21*X_4 + 19*X_5 + 10*X_6 + 28*X_7 + 18*X_8 + 3*X_9 + 0\n",
            "SUBJECT TO\n",
            "_C1: 35 X_0 + 25 X_1 + 10 X_10 + 45 X_11 + 15 X_2 + 7 X_3 + 8 X_4 + 9 X_5\n",
            " + 20 X_6 + 28 X_7 + 18 X_8 + 5 X_9 <= 77\n",
            "\n",
            "VARIABLES\n",
            "0 <= X_0 <= 1 Integer\n",
            "0 <= X_1 <= 1 Integer\n",
            "0 <= X_10 <= 1 Integer\n",
            "0 <= X_11 <= 1 Integer\n",
            "0 <= X_2 <= 1 Integer\n",
            "0 <= X_3 <= 1 Integer\n",
            "0 <= X_4 <= 1 Integer\n",
            "0 <= X_5 <= 1 Integer\n",
            "0 <= X_6 <= 1 Integer\n",
            "0 <= X_7 <= 1 Integer\n",
            "0 <= X_8 <= 1 Integer\n",
            "0 <= X_9 <= 1 Integer\n",
            "\n",
            "Optimal\n",
            "O custo é 184.0\n",
            "X_0 = 0.0\n",
            "X_1 = 1.0\n",
            "X_2 = 1.0\n",
            "X_3 = 1.0\n",
            "X_4 = 1.0\n",
            "X_5 = 1.0\n",
            "X_6 = 0.0\n",
            "X_7 = 0.0\n",
            "X_8 = 0.0\n",
            "X_9 = 0.0\n",
            "X_10 = 1.0\n",
            "X_11 = 0.0\n"
          ],
          "name": "stdout"
        }
      ]
    }
  ]
}