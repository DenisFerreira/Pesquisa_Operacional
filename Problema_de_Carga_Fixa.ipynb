{
  "nbformat": 4,
  "nbformat_minor": 0,
  "metadata": {
    "colab": {
      "name": "Problema de Carga Fixa.ipynb",
      "provenance": [],
      "collapsed_sections": [],
      "authorship_tag": "ABX9TyO4NyeqGEjm51dL1ZKgWF1x",
      "include_colab_link": true
    },
    "kernelspec": {
      "name": "python3",
      "display_name": "Python 3"
    },
    "language_info": {
      "name": "python"
    }
  },
  "cells": [
    {
      "cell_type": "markdown",
      "metadata": {
        "id": "view-in-github",
        "colab_type": "text"
      },
      "source": [
        "<a href=\"https://colab.research.google.com/github/DenisFerreira/Pesquisa_Operacional/blob/main/Problema_de_Carga_Fixa.ipynb\" target=\"_parent\"><img src=\"https://colab.research.google.com/assets/colab-badge.svg\" alt=\"Open In Colab\"/></a>"
      ]
    },
    {
      "cell_type": "code",
      "metadata": {
        "id": "aD_nwqKka7Ij"
      },
      "source": [
        ""
      ],
      "execution_count": null,
      "outputs": []
    },
    {
      "cell_type": "markdown",
      "metadata": {
        "id": "pBtmXLFnbAyl"
      },
      "source": [
        "# Problema da carga fixa\n",
        "  O problema da carga fixa lembra o problema do mix de produção com a diferença de existir custo fixo para iniciar um determinado processo, máquina, fábrica etc.\n",
        "De forma que a produção de um produto é opcional. \n",
        "\n",
        "# Problema de programação inteira\n",
        "A variável de decisão se o produto será feito é um booleano.\n",
        "\n",
        "\n",
        "# Contexto\n",
        "*   Em uma fábrica existem N máquinas diferentes para produzir o mesmo produto (ou produtos diferentes).\n",
        "*   O custo de produção é calculado pelo custo fixo da máquina + custo relativo ao produto em cada uma das N máquinas ou processos Ci\n",
        "*   O custo fixo Fi só é considerado quando é produzido alguma peça na máquina\n",
        "\n",
        "Objetivo: Reduzir o custo de produção uma demanda específica.\n",
        "`C = sum(Ci*Xi) + sum(Fi*Yi)`\n",
        "\n",
        "Variáveis: \n",
        "```\n",
        "1.   Xi = Quantidade produzida do produto i\n",
        "2.   Yi = 1, Se Xi > 0 ou Yi = 0 se Xi = 0\n",
        "```"
      ]
    },
    {
      "cell_type": "code",
      "metadata": {
        "id": "lc-PL07sg5nq"
      },
      "source": [
        "!!pip install pulp\n",
        "from pulp import *"
      ],
      "execution_count": 1,
      "outputs": []
    },
    {
      "cell_type": "code",
      "metadata": {
        "colab": {
          "base_uri": "https://localhost:8080/"
        },
        "id": "6KCq73tRg_gG",
        "outputId": "ff1cf81d-3cbf-4e6b-f247-1c011f00ffef"
      },
      "source": [
        "# Dados do problema\n",
        "\n",
        "#A fábrica possui 3 máquinas para produzir chapas de alumínio\n",
        "maquinas = [0,1,2]\n",
        "\n",
        "#Custo fixo em cada máquina\n",
        "fixo = {\n",
        "    maquinas[0]: 25,\n",
        "    maquinas[1]: 45,\n",
        "    maquinas[2]: 60,\n",
        "}\n",
        "\n",
        "# Custo variável em cada máquina\n",
        "variavel = {\n",
        "    maquinas[0]: 4,\n",
        "    maquinas[1]: 7,\n",
        "    maquinas[2]: 12,\n",
        "}\n",
        "\n",
        "#Capacidade de cada máquina\n",
        "capacidade = {\n",
        "    maquinas[0]: 30,\n",
        "    maquinas[1]: 60,\n",
        "    maquinas[2]: 78,\n",
        "}\n",
        "\n",
        "# Demanda a ser atendida de produção\n",
        "demanda = 75\n",
        "\n",
        "# Criação das variáveis de decisão\n",
        "X = LpVariable.dict(\"X\", (maquinas), lowBound=0, cat=const.LpInteger)\n",
        "Y = LpVariable.dict(\"Y\", (maquinas), cat=const.LpBinary)\n",
        "\n",
        "# Criação do modelo\n",
        "model = LpProblem(\"Problema_da_carga_fixa\", LpMinimize)\n",
        "\n",
        "lista_fo = []\n",
        "for i in maquinas:\n",
        "  lista_fo.append( X[i] * variavel[i] + Y[i] * fixo[i] )\n",
        "model += lpSum(lista_fo)\n",
        "\n",
        "# Criação das restrições\n",
        "for i in maquinas:\n",
        "  model += X[i] <= capacidade[i]* Y[i]\n",
        "\n",
        "lista_rest = []\n",
        "for i in maquinas:\n",
        "  lista_rest.append(X[i])\n",
        "model += lpSum(lista_rest) == 75  \n",
        "\n",
        "print(model)\n",
        "status = model.solve()\n",
        "print(LpStatus[status])\n",
        "print(f'O custo é {value(model.objective)}')\n",
        "for i in maquinas:\n",
        "  print(f'{X[i]} = {value(X[i])}')"
      ],
      "execution_count": 9,
      "outputs": [
        {
          "output_type": "stream",
          "text": [
            "Problema_da_carga_fixa:\n",
            "MINIMIZE\n",
            "4*X_0 + 7*X_1 + 12*X_2 + 25*Y_0 + 45*Y_1 + 60*Y_2 + 0\n",
            "SUBJECT TO\n",
            "_C1: X_0 - 30 Y_0 <= 0\n",
            "\n",
            "_C2: X_1 - 60 Y_1 <= 0\n",
            "\n",
            "_C3: X_2 - 78 Y_2 <= 0\n",
            "\n",
            "_C4: X_0 + X_1 + X_2 = 75\n",
            "\n",
            "VARIABLES\n",
            "0 <= X_0 Integer\n",
            "0 <= X_1 Integer\n",
            "0 <= X_2 Integer\n",
            "0 <= Y_0 <= 1 Integer\n",
            "0 <= Y_1 <= 1 Integer\n",
            "0 <= Y_2 <= 1 Integer\n",
            "\n",
            "Optimal\n",
            "O custo é 505.0\n",
            "X_0 = 30.0\n",
            "X_1 = 45.0\n",
            "X_2 = 0.0\n"
          ],
          "name": "stdout"
        }
      ]
    }
  ]
}