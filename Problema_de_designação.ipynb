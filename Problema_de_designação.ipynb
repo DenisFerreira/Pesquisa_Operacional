{
  "nbformat": 4,
  "nbformat_minor": 0,
  "metadata": {
    "colab": {
      "name": "Problema de designação.ipynb",
      "provenance": [],
      "collapsed_sections": [],
      "authorship_tag": "ABX9TyMpg5TRz6UGsqkiE33l5QDv",
      "include_colab_link": true
    },
    "kernelspec": {
      "name": "python3",
      "display_name": "Python 3"
    },
    "language_info": {
      "name": "python"
    }
  },
  "cells": [
    {
      "cell_type": "markdown",
      "metadata": {
        "id": "view-in-github",
        "colab_type": "text"
      },
      "source": [
        "<a href=\"https://colab.research.google.com/github/DenisFerreira/Pesquisa_Operacional/blob/main/Problema_de_designa%C3%A7%C3%A3o.ipynb\" target=\"_parent\"><img src=\"https://colab.research.google.com/assets/colab-badge.svg\" alt=\"Open In Colab\"/></a>"
      ]
    },
    {
      "cell_type": "markdown",
      "metadata": {
        "id": "RuXvn22dDnv9"
      },
      "source": [
        "# Problema da designação\n",
        "*   N trabalhadores\n",
        "*   que realizam N tarefas\n",
        "*   que custam um determinado valor para realizar cada tarefa\n",
        "\n",
        "Objetivo é designar cada trabalhador para alguma tarefa de forma a minimizar os custos\n",
        "\n",
        "Sendo que \n",
        "```\n",
        "Xij = 1 se o trabalhador i realiza a atividade j\n",
        "Xij = 0 caso contrário\n",
        "```\n",
        "Restrito a cada trabalhador realiza uma única tarefa\n",
        "\n"
      ]
    },
    {
      "cell_type": "markdown",
      "metadata": {
        "id": "nFa0YgRdFjna"
      },
      "source": [
        "# Exemplo de uso\n",
        "\n",
        "Em uma construtora temos 5 times de demolição e 5 demolições para serem realizadas. Considerando que todos os times tem as mesmas habilidades, a decisão para designação dos times será baseada no custo, principalmente em distância, para alocar o time na obra específica. "
      ]
    },
    {
      "cell_type": "code",
      "metadata": {
        "id": "Xi53b1LuD5zc"
      },
      "source": [
        "!!pip install pulp\n",
        "from pulp import *"
      ],
      "execution_count": 2,
      "outputs": []
    },
    {
      "cell_type": "code",
      "metadata": {
        "id": "iauZJow_FYoU"
      },
      "source": [
        "# Dados do problema\n",
        "equipes = [0, 1, 2, 3, 4]\n",
        "obras = [0, 1, 2, 3, 4]\n",
        "custo = [\n",
        "         [33, 22, 40, 21, 43],\n",
        "         [33, 40, 26, 17, 36],\n",
        "         [34, 38, 42, 29, 29],\n",
        "         [36, 30, 21, 36, 34],\n",
        "         [28, 45, 31, 42, 19],\n",
        "]\n",
        "\n",
        "# Variáveis de decisão\n",
        "var = LpVariable.dict('x', (equipes, obras), cat=LpBinary)\n",
        "\n",
        "# Função Objetivo\n",
        "model = LpProblem(\"Designação\", LpMinimize)\n",
        "lista_fo = []\n",
        "for key in var.keys():\n",
        "    lista_fo.append( var[key] * custo[ key[0] ][ key[1] ] )\n",
        "model += lpSum(lista_fo)\n",
        "\n",
        "# Restrições\n",
        "# Cada trabalhador realiza uma tarefa\n",
        "lista_rest = []\n",
        "for i in equipes:\n",
        "  for j in obras:\n",
        "    lista_rest.append( var[(i,j)])\n",
        "  model += lpSum(lista_rest) == 1\n",
        "  lista_rest = []\n",
        "\n",
        "#Cada tarefa é executada uma única vez\n",
        "lista_rest = []\n",
        "for i in equipes:\n",
        "  for j in obras:\n",
        "    lista_rest.append( var[(j,i)])\n",
        "  model += lpSum(lista_rest) == 1\n",
        "  lista_rest = []\n"
      ],
      "execution_count": 13,
      "outputs": []
    },
    {
      "cell_type": "code",
      "metadata": {
        "colab": {
          "base_uri": "https://localhost:8080/"
        },
        "id": "dxgc_hh0JTuk",
        "outputId": "31f89a5e-c22e-48ec-9f80-8b2230dd551a"
      },
      "source": [
        "print(model)\n",
        "status = model.solve()\n",
        "print(LpStatus[status])\n",
        "print(f'O valor ótimo é {value(model.objective)}')\n",
        "for i in var.keys():\n",
        "  print(f'{var[i]} = {value(var[i])}')"
      ],
      "execution_count": 14,
      "outputs": [
        {
          "output_type": "stream",
          "text": [
            "Designação:\n",
            "MINIMIZE\n",
            "33*x_0_0 + 22*x_0_1 + 40*x_0_2 + 21*x_0_3 + 43*x_0_4 + 33*x_1_0 + 40*x_1_1 + 26*x_1_2 + 17*x_1_3 + 36*x_1_4 + 34*x_2_0 + 38*x_2_1 + 42*x_2_2 + 29*x_2_3 + 29*x_2_4 + 36*x_3_0 + 30*x_3_1 + 21*x_3_2 + 36*x_3_3 + 34*x_3_4 + 28*x_4_0 + 45*x_4_1 + 31*x_4_2 + 42*x_4_3 + 19*x_4_4 + 0\n",
            "SUBJECT TO\n",
            "_C1: x_0_0 + x_0_1 + x_0_2 + x_0_3 + x_0_4 = 1\n",
            "\n",
            "_C2: x_1_0 + x_1_1 + x_1_2 + x_1_3 + x_1_4 = 1\n",
            "\n",
            "_C3: x_2_0 + x_2_1 + x_2_2 + x_2_3 + x_2_4 = 1\n",
            "\n",
            "_C4: x_3_0 + x_3_1 + x_3_2 + x_3_3 + x_3_4 = 1\n",
            "\n",
            "_C5: x_4_0 + x_4_1 + x_4_2 + x_4_3 + x_4_4 = 1\n",
            "\n",
            "_C6: x_0_0 + x_1_0 + x_2_0 + x_3_0 + x_4_0 = 1\n",
            "\n",
            "_C7: x_0_1 + x_1_1 + x_2_1 + x_3_1 + x_4_1 = 1\n",
            "\n",
            "_C8: x_0_2 + x_1_2 + x_2_2 + x_3_2 + x_4_2 = 1\n",
            "\n",
            "_C9: x_0_3 + x_1_3 + x_2_3 + x_3_3 + x_4_3 = 1\n",
            "\n",
            "_C10: x_0_4 + x_1_4 + x_2_4 + x_3_4 + x_4_4 = 1\n",
            "\n",
            "VARIABLES\n",
            "0 <= x_0_0 <= 1 Integer\n",
            "0 <= x_0_1 <= 1 Integer\n",
            "0 <= x_0_2 <= 1 Integer\n",
            "0 <= x_0_3 <= 1 Integer\n",
            "0 <= x_0_4 <= 1 Integer\n",
            "0 <= x_1_0 <= 1 Integer\n",
            "0 <= x_1_1 <= 1 Integer\n",
            "0 <= x_1_2 <= 1 Integer\n",
            "0 <= x_1_3 <= 1 Integer\n",
            "0 <= x_1_4 <= 1 Integer\n",
            "0 <= x_2_0 <= 1 Integer\n",
            "0 <= x_2_1 <= 1 Integer\n",
            "0 <= x_2_2 <= 1 Integer\n",
            "0 <= x_2_3 <= 1 Integer\n",
            "0 <= x_2_4 <= 1 Integer\n",
            "0 <= x_3_0 <= 1 Integer\n",
            "0 <= x_3_1 <= 1 Integer\n",
            "0 <= x_3_2 <= 1 Integer\n",
            "0 <= x_3_3 <= 1 Integer\n",
            "0 <= x_3_4 <= 1 Integer\n",
            "0 <= x_4_0 <= 1 Integer\n",
            "0 <= x_4_1 <= 1 Integer\n",
            "0 <= x_4_2 <= 1 Integer\n",
            "0 <= x_4_3 <= 1 Integer\n",
            "0 <= x_4_4 <= 1 Integer\n",
            "\n",
            "Optimal\n",
            "O valor ótimo é 113.0\n",
            "x_0_0 = 0.0\n",
            "x_0_1 = 1.0\n",
            "x_0_2 = 0.0\n",
            "x_0_3 = 0.0\n",
            "x_0_4 = 0.0\n",
            "x_1_0 = 0.0\n",
            "x_1_1 = 0.0\n",
            "x_1_2 = 0.0\n",
            "x_1_3 = 1.0\n",
            "x_1_4 = 0.0\n",
            "x_2_0 = 1.0\n",
            "x_2_1 = 0.0\n",
            "x_2_2 = 0.0\n",
            "x_2_3 = 0.0\n",
            "x_2_4 = 0.0\n",
            "x_3_0 = 0.0\n",
            "x_3_1 = 0.0\n",
            "x_3_2 = 1.0\n",
            "x_3_3 = 0.0\n",
            "x_3_4 = 0.0\n",
            "x_4_0 = 0.0\n",
            "x_4_1 = 0.0\n",
            "x_4_2 = 0.0\n",
            "x_4_3 = 0.0\n",
            "x_4_4 = 1.0\n"
          ],
          "name": "stdout"
        }
      ]
    }
  ]
}