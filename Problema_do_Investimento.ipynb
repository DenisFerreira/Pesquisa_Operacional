{
  "nbformat": 4,
  "nbformat_minor": 0,
  "metadata": {
    "colab": {
      "name": "Problema do Investimento.ipynb",
      "provenance": [],
      "authorship_tag": "ABX9TyOQKXFTJ8Qxnqd0auwfz1rE",
      "include_colab_link": true
    },
    "kernelspec": {
      "name": "python3",
      "display_name": "Python 3"
    },
    "language_info": {
      "name": "python"
    }
  },
  "cells": [
    {
      "cell_type": "markdown",
      "metadata": {
        "id": "view-in-github",
        "colab_type": "text"
      },
      "source": [
        "<a href=\"https://colab.research.google.com/github/DenisFerreira/Pesquisa_Operacional/blob/main/Problema_do_Investimento.ipynb\" target=\"_parent\"><img src=\"https://colab.research.google.com/assets/colab-badge.svg\" alt=\"Open In Colab\"/></a>"
      ]
    },
    {
      "cell_type": "markdown",
      "metadata": {
        "id": "QQV8gUfbyr99"
      },
      "source": [
        "# Problema do Investimento\n",
        "\n",
        "O problema do investimento reside em definir valores de investimento em diversas opções de forma a maximizar o lucro reduzindo os riscos associados a cada investimento\n",
        "\n",
        "# Exemplo\n",
        " Um banco tem um capital de RS 1.000.000,00 para alocar em 5 diferentes tipos de empréstimos (E1, E2, E3, E4, E5). Cada tipo de empréstimo tem uma taxa de juros associada (0.02, 0.03, 0.025, 0.032 e 0.005) e uma taxa de não pagamento de (0.03, 0.08, 0.1, 0.13 e 0.01). Por questões de segurança, cada investimento pode ter no mínimo R$ 70.000,00 investido e no máximo RS 599.999,99. Quanto o banco tem que investir em cada tipo de investimento de modo que maximize o retorno?"
      ]
    },
    {
      "cell_type": "code",
      "metadata": {
        "id": "kbe8B1Ht0stj"
      },
      "source": [
        "!!pip install pulp\n",
        "from pulp import *"
      ],
      "execution_count": 1,
      "outputs": []
    },
    {
      "cell_type": "code",
      "metadata": {
        "id": "DSv1qI_F0zpj"
      },
      "source": [
        "# Dados do problema\n",
        "capital = 1000000\n",
        "\n",
        "emprestimos = [0,1,2,3,4]\n",
        "\n",
        "taxa_juros = [0.02, 0.03, 0.025, 0.032, 0.005]\n",
        "\n",
        "taxa_inadimplencia = [0.03, 0.08, 0.1, 0.13, 0.01] \n",
        "\n",
        "min_investimento = 70000\n",
        "\n",
        "max_investimento = 599999.99"
      ],
      "execution_count": 2,
      "outputs": []
    },
    {
      "cell_type": "code",
      "metadata": {
        "colab": {
          "base_uri": "https://localhost:8080/"
        },
        "id": "gt3UmJw117u3",
        "outputId": "b4b2ea30-9c1f-46fb-b50a-5ff0e6c67d6d"
      },
      "source": [
        "# Criação das variáveis de decisão\n",
        "var = LpVariable.dict(\"E\", (emprestimos), lowBound=min_investimento, upBound=max_investimento)\n",
        "\n",
        "# Criação do modelo\n",
        "model = LpProblem(\"Problema_Investimento\", LpMaximize)\n",
        "\n",
        "lista_fo = []\n",
        "for x in emprestimos:\n",
        "  lista_fo.append(var[x]*taxa_juros[x]*(1-taxa_inadimplencia[x]))\n",
        "model += lpSum(lista_fo)\n",
        "\n",
        "# Criação das restrições\n",
        "model += lpSum(var.values()) <= capital\n",
        "\n",
        "status = model.solve()\n",
        "print(value(model.objective))\n",
        "print(LpStatus[status])\n",
        "for x in var.values():\n",
        "  if value(x)!= 0:\n",
        "    print(f'{x} = {value(x)}')"
      ],
      "execution_count": 6,
      "outputs": [
        {
          "output_type": "stream",
          "text": [
            "25227.4999976\n",
            "Optimal\n",
            "E_0 = 70000.0\n",
            "E_1 = 190000.01\n",
            "E_2 = 70000.0\n",
            "E_3 = 599999.99\n",
            "E_4 = 70000.0\n"
          ],
          "name": "stdout"
        }
      ]
    }
  ]
}