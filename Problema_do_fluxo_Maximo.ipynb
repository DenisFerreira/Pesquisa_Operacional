{
  "nbformat": 4,
  "nbformat_minor": 0,
  "metadata": {
    "colab": {
      "name": "Problema do fluxo Maximo.ipynb",
      "provenance": [],
      "authorship_tag": "ABX9TyMrqPe+oB/cp99wWh3H+klj",
      "include_colab_link": true
    },
    "kernelspec": {
      "name": "python3",
      "display_name": "Python 3"
    },
    "language_info": {
      "name": "python"
    }
  },
  "cells": [
    {
      "cell_type": "markdown",
      "metadata": {
        "id": "view-in-github",
        "colab_type": "text"
      },
      "source": [
        "<a href=\"https://colab.research.google.com/github/DenisFerreira/Pesquisa_Operacional/blob/main/Problema_do_fluxo_Maximo.ipynb\" target=\"_parent\"><img src=\"https://colab.research.google.com/assets/colab-badge.svg\" alt=\"Open In Colab\"/></a>"
      ]
    },
    {
      "cell_type": "markdown",
      "metadata": {
        "id": "WK4j5XGbswfy"
      },
      "source": [
        "# Otimização em Rede\n",
        "\n",
        "# Problema do fluxo Máximo\n",
        "\n",
        "*   Imagine uma rede de distribuição de petróleo entre poços e refinarias\n",
        "*   Entre os poços e as refinarias existem estações intermediárias para ajudar a impulsionar o fluxo\n",
        "*   Os poços, refinarias e estações intermediárias são ligados por tubulações que possuem capacidade máxima de fluxos.\n",
        "\n",
        "O Objetivo deste problema é maximizar o fluxo de fluido dos poços até as refinarias\n",
        "\n",
        "Restrito a:\n",
        "*   No nó de origem só existe saída de fluxo\n",
        "*   No nó de destino só existe entrada de fluxo\n",
        "*   Nos demais nós o fluxo de entrada deve ser igual ao de saída\n",
        "*   A capacidade de escoamento das tubulações deve ser respeitada\n"
      ]
    },
    {
      "cell_type": "code",
      "metadata": {
        "id": "wO0Z1m2vs0UD"
      },
      "source": [
        "!!pip install pulp\n",
        "from pulp import *"
      ],
      "execution_count": 1,
      "outputs": []
    },
    {
      "cell_type": "code",
      "metadata": {
        "id": "C6nE4vSps3v9"
      },
      "source": [
        "# Dados do problema\n",
        "n_nos = [0, 1, 2, 3, 4]\n",
        "no_origem =  n_nos[0]\n",
        "no_destino = n_nos[4]\n",
        "\n",
        "grafo = [\n",
        "         [0,1,1,1,0],\n",
        "         [0,0,1,0,1],\n",
        "         [0,0,0,1,1],\n",
        "         [0,0,1,0,1],\n",
        "         [0,0,0,0,0]\n",
        "         ]\n",
        "\n",
        "fluxo_maximo = [\n",
        "          [0,200,300,100,0],\n",
        "          [0,0,400,0,300],\n",
        "          [0,0,0,100,200],\n",
        "          [0,0,50,0,200],\n",
        "          [0,0,0,0,0]\n",
        "]\n",
        "\n",
        "\n",
        "# Variáveis de decisão\n",
        "var = {}\n",
        "for i in n_nos:\n",
        "  for j in n_nos:\n",
        "    if grafo[i][j] == 1 :\n",
        "      # As variáveis representam o fluxo que será utilizado em cada aresta\n",
        "      var[(i,j)] = LpVariable(name=f'x{i}{j}', lowBound=0, upBound=fluxo_maximo[i][j], cat=LpContinuous)\n",
        "\n",
        "# Criação do Modelo\n",
        "model = LpProblem(\"Fluxo_Maximo\", LpMaximize)\n",
        "\n",
        "# Função Objetiva\n",
        "# Maximizar a capacidade de fluxo de saída do nó de origem\n",
        "lista_fo = []\n",
        "for key in var.keys():\n",
        "  if key[0] == no_origem:\n",
        "    lista_fo.append( var[key] )\n",
        "model += lpSum(lista_fo)\n",
        "\n",
        "# Restrições\n",
        "for no in n_nos:\n",
        "  if no != no_origem and no != no_destino :\n",
        "    lista_entradas = []\n",
        "    lista_saidas = []\n",
        "    for aresta in var.keys():\n",
        "      if aresta[0] == no:\n",
        "        lista_saidas.append(var[aresta])\n",
        "      elif aresta[1] == no:\n",
        "        lista_entradas.append(var[aresta])\n",
        "\n",
        "    # Todo nó que está no caminho ótimo deve ter uma entrada e uma saída\n",
        "    model += lpSum(lista_entradas) == lpSum(lista_saidas)\n"
      ],
      "execution_count": 11,
      "outputs": []
    },
    {
      "cell_type": "code",
      "metadata": {
        "colab": {
          "base_uri": "https://localhost:8080/"
        },
        "id": "BByEVrnos7dy",
        "outputId": "bc2ceec6-aba9-45b8-94f6-395d3b428277"
      },
      "source": [
        "print(model)\n",
        "status = model.solve()\n",
        "print(LpStatus[status])\n",
        "print(f'O valor ótimo é {value(model.objective)}')\n",
        "for i in var.keys():\n",
        "  if(value(var[i]) != 0):\n",
        "    print(f'{var[i]} = {value(var[i])}')"
      ],
      "execution_count": 12,
      "outputs": [
        {
          "output_type": "stream",
          "text": [
            "Fluxo_Maximo:\n",
            "MAXIMIZE\n",
            "1*x01 + 1*x02 + 1*x03 + 0\n",
            "SUBJECT TO\n",
            "_C1: x01 - x12 - x14 = 0\n",
            "\n",
            "_C2: x02 + x12 - x23 - x24 + x32 = 0\n",
            "\n",
            "_C3: x03 + x23 - x32 - x34 = 0\n",
            "\n",
            "VARIABLES\n",
            "x01 <= 200 Continuous\n",
            "x02 <= 300 Continuous\n",
            "x03 <= 100 Continuous\n",
            "x12 <= 400 Continuous\n",
            "x14 <= 300 Continuous\n",
            "x23 <= 100 Continuous\n",
            "x24 <= 200 Continuous\n",
            "x32 <= 50 Continuous\n",
            "x34 <= 200 Continuous\n",
            "\n",
            "Optimal\n",
            "O valor ótimo é 600.0\n",
            "x01 = 200.0\n",
            "x02 = 300.0\n",
            "x03 = 100.0\n",
            "x14 = 200.0\n",
            "x23 = 100.0\n",
            "x24 = 200.0\n",
            "x34 = 200.0\n"
          ],
          "name": "stdout"
        }
      ]
    }
  ]
}