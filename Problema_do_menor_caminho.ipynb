{
  "nbformat": 4,
  "nbformat_minor": 0,
  "metadata": {
    "colab": {
      "name": "Problema do menor caminho.ipynb",
      "provenance": [],
      "collapsed_sections": [],
      "authorship_tag": "ABX9TyMUpXxh5LIVF7c+VflFndzG",
      "include_colab_link": true
    },
    "kernelspec": {
      "name": "python3",
      "display_name": "Python 3"
    },
    "language_info": {
      "name": "python"
    }
  },
  "cells": [
    {
      "cell_type": "markdown",
      "metadata": {
        "id": "view-in-github",
        "colab_type": "text"
      },
      "source": [
        "<a href=\"https://colab.research.google.com/github/DenisFerreira/Pesquisa_Operacional/blob/main/Problema_do_menor_caminho.ipynb\" target=\"_parent\"><img src=\"https://colab.research.google.com/assets/colab-badge.svg\" alt=\"Open In Colab\"/></a>"
      ]
    },
    {
      "cell_type": "markdown",
      "metadata": {
        "id": "GBU346jfqprU"
      },
      "source": [
        "# Otimização em Rede\n",
        "\n",
        "# Problema do menor caminho\n",
        "O problema do menor caminho é o desafio de encontrar o menor caminho que liga dois nós de uma rede conectada.\n",
        "\n",
        "Restrito a:\n",
        "*   No nó de origem só existe saída de fluxo\n",
        "*   No nó de destino só existe entrada de fluxo\n",
        "*   Nos demais nós o fluxo de entrada deve ser igual ao de saída e iguais a 1\n",
        "\n",
        "\n",
        "> Xij = { 1  se Xij pertence ao menor caminho ou 0 se não pertence }\n",
        "\n",
        "**Função Objetivo** será minimizar\n",
        "\n",
        "\n",
        "> Min Sum Xij*Cij\n",
        "\n",
        "**Sujeito a:** \n",
        "\n",
        "> Sum Xij = 1  para todo i nó de origem\n",
        "\n",
        "> Sum Xij = -1 para todo j nó de destino\n",
        "\n",
        "> Sum Xik - Sum Xjk == 0 para todo nó k\n",
        "\n"
      ]
    },
    {
      "cell_type": "code",
      "metadata": {
        "id": "Wnf2gDocsW5K"
      },
      "source": [
        "!!pip install pulp\n",
        "from pulp import *"
      ],
      "execution_count": 1,
      "outputs": []
    },
    {
      "cell_type": "code",
      "metadata": {
        "id": "IU-enJ_xsYZb"
      },
      "source": [
        "# Dados do problema\n",
        "n_nos = [0, 1, 2, 3, 4]\n",
        "no_origem =  n_nos[0]\n",
        "no_destino = n_nos[1]\n",
        "\n",
        "grafo = [\n",
        "         [0,1,1,0,0],\n",
        "         [0,0,1,0,0],\n",
        "         [0,0,0,1,1],\n",
        "         [0,1,0,0,1],\n",
        "         [0,0,0,0,0]\n",
        "         ]\n",
        "\n",
        "custos = [\n",
        "          [0,300,90,0,0],\n",
        "          [0,0,60,0,0],\n",
        "          [0,0,0,30,180],\n",
        "          [0,45,0,0,150],\n",
        "          [0,0,0,0,0]\n",
        "]\n",
        "\n",
        "\n",
        "# Variáveis de decisão\n",
        "var = {}\n",
        "for i in n_nos:\n",
        "  for j in n_nos:\n",
        "    if grafo[i][j] == 1 :\n",
        "      var[(i,j)] = LpVariable(name=f'x{i}{j}', cat=LpBinary)\n",
        "\n",
        "# Criação do Modelo\n",
        "model = LpProblem(\"Menor_Caminho\", LpMinimize)\n",
        "\n",
        "# Função Objetiva\n",
        "lista_fo = []\n",
        "for key in var.keys():\n",
        "    lista_fo.append( var[key] * custos[ key[0] ][ key[1] ] )\n",
        "model += lpSum(lista_fo)\n",
        "\n",
        "# Restrições\n",
        "\n",
        "for no in n_nos:\n",
        "  lista_entradas = []\n",
        "  lista_saidas = []\n",
        "  for aresta in var.keys():\n",
        "    if aresta[0] == no:\n",
        "      lista_saidas.append(var[aresta])\n",
        "    elif aresta[1] == no:\n",
        "      lista_entradas.append(var[aresta])\n",
        "  \n",
        "  # Nó de origem tem apenas uma saída\n",
        "  if no == no_origem:\n",
        "    model += lpSum(lista_saidas) == 1\n",
        "  \n",
        "  # Nó de destino tem apenas uma entrada\n",
        "  elif no == no_destino:\n",
        "    model += lpSum(lista_entradas) == 1\n",
        "\n",
        "  # Todo nó que está no caminho ótimo deve ter uma entrada e uma saída\n",
        "  else: \n",
        "    model += lpSum(lista_entradas) == lpSum(lista_saidas)\n"
      ],
      "execution_count": 18,
      "outputs": []
    },
    {
      "cell_type": "code",
      "metadata": {
        "colab": {
          "base_uri": "https://localhost:8080/"
        },
        "id": "oH6rEYuLvQrS",
        "outputId": "eb1eccee-04a5-477a-9324-dcdda837c853"
      },
      "source": [
        "print(model)\n",
        "status = model.solve()\n",
        "print(LpStatus[status])\n",
        "print(f'O valor ótimo é {value(model.objective)}')\n",
        "for i in var.keys():\n",
        "  if(value(var[i]) != 0):\n",
        "    print(f'{var[i]} = {value(var[i])}')"
      ],
      "execution_count": 19,
      "outputs": [
        {
          "output_type": "stream",
          "text": [
            "Menor_Caminho:\n",
            "MINIMIZE\n",
            "300*x01 + 90*x02 + 60*x12 + 30*x23 + 180*x24 + 45*x31 + 150*x34 + 0\n",
            "SUBJECT TO\n",
            "_C1: x01 + x02 = 1\n",
            "\n",
            "_C2: x01 + x31 = 1\n",
            "\n",
            "_C3: x02 + x12 - x23 - x24 = 0\n",
            "\n",
            "_C4: x23 - x31 - x34 = 0\n",
            "\n",
            "_C5: x24 + x34 = 0\n",
            "\n",
            "VARIABLES\n",
            "0 <= x01 <= 1 Integer\n",
            "0 <= x02 <= 1 Integer\n",
            "0 <= x12 <= 1 Integer\n",
            "0 <= x23 <= 1 Integer\n",
            "0 <= x24 <= 1 Integer\n",
            "0 <= x31 <= 1 Integer\n",
            "0 <= x34 <= 1 Integer\n",
            "\n",
            "Optimal\n",
            "O valor ótimo é 165.0\n",
            "x02 = 1.0\n",
            "x23 = 1.0\n",
            "x31 = 1.0\n"
          ],
          "name": "stdout"
        }
      ]
    }
  ]
}