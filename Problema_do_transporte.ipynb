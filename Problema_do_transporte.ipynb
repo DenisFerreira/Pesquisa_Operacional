{
  "nbformat": 4,
  "nbformat_minor": 0,
  "metadata": {
    "colab": {
      "name": "Problema do transporte.ipynb",
      "provenance": [],
      "authorship_tag": "ABX9TyOL9ykTUQpZ7p+6u+u+Xzpr",
      "include_colab_link": true
    },
    "kernelspec": {
      "name": "python3",
      "display_name": "Python 3"
    },
    "language_info": {
      "name": "python"
    }
  },
  "cells": [
    {
      "cell_type": "markdown",
      "metadata": {
        "id": "view-in-github",
        "colab_type": "text"
      },
      "source": [
        "<a href=\"https://colab.research.google.com/github/DenisFerreira/Pesquisa_Operacional/blob/main/Problema_do_transporte.ipynb\" target=\"_parent\"><img src=\"https://colab.research.google.com/assets/colab-badge.svg\" alt=\"Open In Colab\"/></a>"
      ]
    },
    {
      "cell_type": "markdown",
      "metadata": {
        "id": "skqygfrpf_NY"
      },
      "source": [
        "# Otimização em Rede\n",
        "\n",
        "# Problema do transporte\n",
        "O problema do transporte é um clássico da área de otimização, trata do problema de designar determinados elementos produtivos a atender demandas específicas mas considerando a distância entre esses produtores e seus consumidores.\n",
        "**Exemplo:** \n",
        "\n",
        "\n",
        "*   N fabricas i com capacidades produtivas Qi\n",
        "*   M mercados j com demandas Mj\n",
        "*   Existem custos para transportar da fábrica i para o mercado j Cij\n",
        "\n",
        "**Objetivo**: Minimizar os custos para atendimento das demandas\n",
        "\n",
        "\n",
        "```\n",
        "FO = min sum Cij*Xij \n",
        "Sujeito a \n",
        "  sum Xij == Mj para todo mercado j\n",
        "  sum Xij <= Qi para toda fábrica i\n",
        "```"
      ]
    },
    {
      "cell_type": "code",
      "metadata": {
        "id": "zrt6P3I6hv3T"
      },
      "source": [
        "!!pip install pulp\n",
        "from pulp import *"
      ],
      "execution_count": 1,
      "outputs": []
    },
    {
      "cell_type": "code",
      "metadata": {
        "id": "BNpS0Vr7gV5k"
      },
      "source": [
        "# Dados do problema\n",
        "fabrica = [0, 1]\n",
        "capacidade_produtiva = {\n",
        "    fabrica[0] : 700,\n",
        "    fabrica[1] : 1500\n",
        "}\n",
        "\n",
        "mercado = [0, 1, 2, 3, 4]\n",
        "demanda = {\n",
        "    mercado[0] : 150,\n",
        "    mercado[1] : 250,\n",
        "    mercado[2] : 300,\n",
        "    mercado[3] : 800,\n",
        "    mercado[4] : 500,\n",
        "}\n",
        "\n",
        "transporte = [\n",
        "         [33, 22, 40, 21, 43],\n",
        "         [33, 40, 26, 17, 36]\n",
        "]\n",
        "\n",
        "# Variáveis de decisão\n",
        "var = LpVariable.dict('x', (fabrica, mercado), lowBound=0, cat=LpInteger)\n",
        "\n",
        "# Função Objetivo\n",
        "model = LpProblem(\"Transporte\", LpMinimize)\n",
        "\n",
        "lista_fo = []\n",
        "for key in var.keys():\n",
        "    lista_fo.append( var[key] * transporte[ key[0] ][ key[1] ] )\n",
        "model += lpSum(lista_fo)\n",
        "\n",
        "# Restrições\n",
        "# Cada demanda deve ser atendida\n",
        "lista_rest = []\n",
        "for j in mercado:\n",
        "  for i in fabrica:\n",
        "    lista_rest.append( var[(i,j)])\n",
        "  model += lpSum(lista_rest) == demanda[mercado[j]]\n",
        "  lista_rest = []\n",
        "\n",
        "# Cada empresa não pode entregar mais do que produz\n",
        "lista_rest = []\n",
        "for i in fabrica:\n",
        "  for j in mercado:\n",
        "    lista_rest.append( var[(i,j)])\n",
        "  model += lpSum(lista_rest) <= capacidade_produtiva[i]\n",
        "  lista_rest = []\n"
      ],
      "execution_count": 13,
      "outputs": []
    },
    {
      "cell_type": "code",
      "metadata": {
        "colab": {
          "base_uri": "https://localhost:8080/"
        },
        "id": "0E_NDGdtk-W4",
        "outputId": "f0a47053-42ae-445d-87d6-5fe175782a65"
      },
      "source": [
        "print(model)\n",
        "status = model.solve()\n",
        "print(LpStatus[status])\n",
        "print(f'O valor ótimo é {value(model.objective)}')\n",
        "for i in var.keys():\n",
        "  if(value(var[i]) != 0):\n",
        "    print(f'{var[i]} = {value(var[i])}')"
      ],
      "execution_count": 14,
      "outputs": [
        {
          "output_type": "stream",
          "text": [
            "Transporte:\n",
            "MINIMIZE\n",
            "33*x_0_0 + 22*x_0_1 + 40*x_0_2 + 21*x_0_3 + 43*x_0_4 + 33*x_1_0 + 40*x_1_1 + 26*x_1_2 + 17*x_1_3 + 36*x_1_4 + 0\n",
            "SUBJECT TO\n",
            "_C1: x_0_0 + x_1_0 = 150\n",
            "\n",
            "_C2: x_0_1 + x_1_1 = 250\n",
            "\n",
            "_C3: x_0_2 + x_1_2 = 300\n",
            "\n",
            "_C4: x_0_3 + x_1_3 = 800\n",
            "\n",
            "_C5: x_0_4 + x_1_4 = 500\n",
            "\n",
            "_C6: x_0_0 + x_0_1 + x_0_2 + x_0_3 + x_0_4 <= 700\n",
            "\n",
            "_C7: x_1_0 + x_1_1 + x_1_2 + x_1_3 + x_1_4 <= 1500\n",
            "\n",
            "VARIABLES\n",
            "0 <= x_0_0 Integer\n",
            "0 <= x_0_1 Integer\n",
            "0 <= x_0_2 Integer\n",
            "0 <= x_0_3 Integer\n",
            "0 <= x_0_4 Integer\n",
            "0 <= x_1_0 Integer\n",
            "0 <= x_1_1 Integer\n",
            "0 <= x_1_2 Integer\n",
            "0 <= x_1_3 Integer\n",
            "0 <= x_1_4 Integer\n",
            "\n",
            "Optimal\n",
            "O valor ótimo é 50250.0\n",
            "x_0_0 = 150.0\n",
            "x_0_1 = 250.0\n",
            "x_0_3 = 100.0\n",
            "x_1_2 = 300.0\n",
            "x_1_3 = 700.0\n",
            "x_1_4 = 500.0\n"
          ],
          "name": "stdout"
        }
      ]
    }
  ]
}