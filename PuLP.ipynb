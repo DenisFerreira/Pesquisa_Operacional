{
  "nbformat": 4,
  "nbformat_minor": 0,
  "metadata": {
    "colab": {
      "name": "PuLP.ipynb",
      "provenance": [],
      "collapsed_sections": [],
      "authorship_tag": "ABX9TyN+BzOq/Jmf84qdb1bYpnoK",
      "include_colab_link": true
    },
    "kernelspec": {
      "name": "python3",
      "display_name": "Python 3"
    },
    "language_info": {
      "name": "python"
    }
  },
  "cells": [
    {
      "cell_type": "markdown",
      "metadata": {
        "id": "view-in-github",
        "colab_type": "text"
      },
      "source": [
        "<a href=\"https://colab.research.google.com/github/DenisFerreira/Pesquisa_Operacional/blob/main/PuLP.ipynb\" target=\"_parent\"><img src=\"https://colab.research.google.com/assets/colab-badge.svg\" alt=\"Open In Colab\"/></a>"
      ]
    },
    {
      "cell_type": "markdown",
      "metadata": {
        "id": "uqm24T1GnESP"
      },
      "source": [
        "# Problemas Lineares - puLP\n",
        "Modelador de problemas lineares\n",
        "*   Programação Linear\n",
        "*   Programação inteira\n",
        "*   Otimização em redes\n",
        "\n",
        "---\n",
        "\n",
        "\n",
        "1.   Criar variáveis de decisão\n",
        "2.   Criar o modelo\n",
        "3.   Criar função objetivo\n",
        "4.   Criar as restrições\n",
        "5.   Solução do modelo\n",
        "\n"
      ]
    },
    {
      "cell_type": "code",
      "metadata": {
        "id": "0fR7dAv-m-vy"
      },
      "source": [
        "!!pip install pulp"
      ],
      "execution_count": null,
      "outputs": []
    },
    {
      "cell_type": "code",
      "metadata": {
        "id": "r4swqNu1okZE"
      },
      "source": [
        "from pulp import *"
      ],
      "execution_count": 2,
      "outputs": []
    },
    {
      "cell_type": "code",
      "metadata": {
        "id": "6FgHvdWTowOb"
      },
      "source": [
        "x = LpVariable(name=\"x\", lowBound=0, upBound=10, cat=const.LpInteger)\n",
        "y = LpVariable(name=\"y\", lowBound=0, upBound=20, cat=const.LpInteger)\n",
        "\n",
        "model = LpProblem(name=\"Problema_test\", sense=const.LpMaximize)\n",
        "\n",
        "model += 3*x + 4*y\n",
        "model += 2*x + y <= 32\n",
        "\n",
        "status = model.solve()"
      ],
      "execution_count": 16,
      "outputs": []
    },
    {
      "cell_type": "code",
      "metadata": {
        "colab": {
          "base_uri": "https://localhost:8080/"
        },
        "id": "EdiF3tFxrwAf",
        "outputId": "6836cc08-2f09-45da-cd9c-7e1766ae2aeb"
      },
      "source": [
        "print(model)\n",
        "print(value(x))\n",
        "print(value(y))\n",
        "print(value(model.objective))\n",
        "print(LpStatus[status])"
      ],
      "execution_count": 21,
      "outputs": [
        {
          "output_type": "stream",
          "text": [
            "Problema_test:\n",
            "MAXIMIZE\n",
            "3*x + 4*y + 0\n",
            "SUBJECT TO\n",
            "_C1: 2 x + y <= 32\n",
            "\n",
            "VARIABLES\n",
            "0 <= x <= 10 Integer\n",
            "0 <= y <= 20 Integer\n",
            "\n",
            "6.0\n",
            "20.0\n",
            "98.0\n",
            "Optimal\n"
          ],
          "name": "stdout"
        }
      ]
    }
  ]
}